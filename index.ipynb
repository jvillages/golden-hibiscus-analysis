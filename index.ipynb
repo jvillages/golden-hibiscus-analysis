{
 "cells": [
  {
   "cell_type": "markdown",
   "metadata": {},
   "source": [
    "# Welcome to an example Binder"
   ]
  },
  {
   "cell_type": "markdown",
   "metadata": {},
   "source": [
    "This notebook uses `seaborn`, which we have because we included it in our `requirements.txt` file"
   ]
  },
  {
   "cell_type": "markdown",
   "metadata": {},
   "source": [
    "## Setup the python environment"
   ]
  },
  {
   "cell_type": "code",
   "execution_count": null,
   "metadata": {},
   "outputs": [],
   "source": [
    "%matplotlib inline\n",
    "import matplotlib.pyplot as plt\n",
    "import seaborn as sns\n",
    "import pandas as pd\n",
    "import re"
   ]
  },
  {
   "cell_type": "markdown",
   "metadata": {},
   "source": [
    "## Constants"
   ]
  },
  {
   "cell_type": "code",
   "execution_count": null,
   "metadata": {},
   "outputs": [],
   "source": [
    "budget_question = 'The following questions are based on a sliding scale of need for investment. After reading or hearing the category, indicate whether you think this category requires:  No Additional Investment Needed, Minimal Investment Needed, Moderate Investment Needed, or Major Investment Needed.'\n",
    "email_question = 'What is your email address?.2'\n",
    "start_date = pd.Timestamp(2021,3,20)"
   ]
  },
  {
   "cell_type": "markdown",
   "metadata": {},
   "source": [
    "## Load the data"
   ]
  },
  {
   "cell_type": "code",
   "execution_count": null,
   "metadata": {},
   "outputs": [],
   "source": [
    "golden_dust_df = pd.read_csv('./Golden-Hibiscus-Survey.csv')\n",
    "golden_dust_df['Timestamp'] = pd.to_datetime(golden_dust_df['Timestamp'], infer_datetime_format=True)\n",
    "date_filter = golden_dust_df['Timestamp'] > start_date\n",
    "golden_dust_df = golden_dust_df[date_filter]\n",
    "print(\"The total number of response to the survey was\", len(golden_dust_df.index))\n",
    "# print('Rows:', list(golden_dust_df.index))\n",
    "# print('Columns:', list(golden_dust_df.columns))\n",
    "responses_with_email_df = golden_dust_df.dropna(subset=[email_question])\n",
    "responses_no_email_df = golden_dust_df[~golden_dust_df.index.isin(responses_with_email_df.index)]\n",
    "responses_with_unique_email_df = responses_with_email_df.drop_duplicates(subset=[email_question])\n",
    "unique_responses = pd.concat([responses_no_email_df, responses_with_unique_email_df])\n",
    "print(\"The number of unique responses to the survey was\", len(unique_responses.index))\n",
    "print(\"The number of unique email addresses we received was\", len(responses_with_email_df.index))\n",
    "golden_dust_df = unique_responses\n",
    "del unique_responses\n",
    "del responses_with_unique_email_df\n",
    "del responses_no_email_df\n",
    "del responses_with_email_df"
   ]
  },
  {
   "cell_type": "markdown",
   "metadata": {},
   "source": [
    "## Sort by Areas of Investment"
   ]
  },
  {
   "cell_type": "code",
   "execution_count": null,
   "metadata": {},
   "outputs": [],
   "source": [
    "budget_responses = list()\n",
    "for col in golden_dust_df.columns:\n",
    "    if budget_question in col:\n",
    "        temp_series = golden_dust_df[col].value_counts()\n",
    "        category_name = re.search(r\"\\[(.+)\\]\", str(temp_series.name)).group(1)\n",
    "        temp_series.name = category_name\n",
    "#         print(temp_series.name)\n",
    "#         print(temp_series.to_string(),'\\n')\n",
    "        budget_responses.append(temp_series)\n",
    "budget_responses_df = pd.concat(budget_responses, axis=1)\n",
    "budget_responses_df.fillna(0, inplace=True)\n",
    "budget_responses_df.loc['Major Investment Needed'] += budget_responses_df.loc['Necesita inversión grande']\n",
    "budget_responses_df.loc['Moderate Investment Needed'] += budget_responses_df.loc['Necesita inversión moderada']\n",
    "budget_responses_df.loc['Minimal Investment Needed'] += budget_responses_df.loc['Necesita inversión mínima']\n",
    "budget_responses_df.loc['No Additional Investment Needed'] += budget_responses_df.loc['No necesita inversión adicional']\n",
    "budget_responses_df.loc['Unsure'] += budget_responses_df.loc['No tengo opinión']\n",
    "budget_responses_df.drop(['Necesita inversión grande', 'Necesita inversión moderada', 'Necesita inversión mínima', 'No necesita inversión adicional','No tengo opinión'], inplace=True)\n",
    "\n",
    "for col in budget_responses_df.columns:\n",
    "    print(col)\n",
    "    print(budget_responses_df[col].to_string(), \"\\n\")"
   ]
  },
  {
   "cell_type": "markdown",
   "metadata": {},
   "source": [
    "## Sort by Need for Investment Categories"
   ]
  },
  {
   "cell_type": "code",
   "execution_count": null,
   "metadata": {},
   "outputs": [],
   "source": [
    "# print('Rows:', list(budget_responses_df.index))\n",
    "# print('Columns:', list(budget_responses_df.columns))\n",
    "for row in budget_responses_df.index:\n",
    "    temp_series = budget_responses_df.loc[row].sort_values(ascending=False)\n",
    "    print(temp_series.name)\n",
    "    print(\"\\t Average count is \", round(temp_series.mean(), 1))\n",
    "    print(\"\\t Standard deviation is \", round(temp_series.std(), 1))\n",
    "    print(temp_series.to_string(), \"\\n\")"
   ]
  },
  {
   "cell_type": "markdown",
   "metadata": {},
   "source": [
    "## Make some plots!"
   ]
  },
  {
   "cell_type": "code",
   "execution_count": null,
   "metadata": {},
   "outputs": [],
   "source": [
    "x = random.randn(10,500)\n",
    "x = gaussian_filter(x, [0, 10])\n",
    "sns.lineplot(data=x.T,dashes=False,legend=None);"
   ]
  },
  {
   "cell_type": "code",
   "execution_count": null,
   "metadata": {
    "jupyter": {
     "outputs_hidden": false
    }
   },
   "outputs": [],
   "source": [
    "mat = random.randn(10,20)\n",
    "sns.heatmap(mat);"
   ]
  }
 ],
 "metadata": {
  "kernelspec": {
   "display_name": "Python 3",
   "language": "python",
   "name": "python3"
  },
  "language_info": {
   "codemirror_mode": {
    "name": "ipython",
    "version": 3
   },
   "file_extension": ".py",
   "mimetype": "text/x-python",
   "name": "python",
   "nbconvert_exporter": "python",
   "pygments_lexer": "ipython3",
   "version": "3.8.8"
  }
 },
 "nbformat": 4,
 "nbformat_minor": 4
}
